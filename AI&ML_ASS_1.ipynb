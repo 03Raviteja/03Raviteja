{
  "nbformat": 4,
  "nbformat_minor": 0,
  "metadata": {
    "colab": {
      "provenance": [],
      "authorship_tag": "ABX9TyNBu79aGnwyVSExaokat/63",
      "include_colab_link": true
    },
    "kernelspec": {
      "name": "python3",
      "display_name": "Python 3"
    },
    "language_info": {
      "name": "python"
    }
  },
  "cells": [
    {
      "cell_type": "markdown",
      "metadata": {
        "id": "view-in-github",
        "colab_type": "text"
      },
      "source": [
        "<a href=\"https://colab.research.google.com/github/03Raviteja/03Raviteja/blob/main/AI%26ML_ASS_1.ipynb\" target=\"_parent\"><img src=\"https://colab.research.google.com/assets/colab-badge.svg\" alt=\"Open In Colab\"/></a>"
      ]
    },
    {
      "cell_type": "code",
      "execution_count": null,
      "metadata": {
        "colab": {
          "base_uri": "https://localhost:8080/"
        },
        "id": "xsJqIFxt3wli",
        "outputId": "ddf013da-efca-4857-a14a-2583492376c2"
      },
      "outputs": [
        {
          "output_type": "execute_result",
          "data": {
            "text/plain": [
              "[1, 2, 3, 4, 5, 6, 7, 8, 9, 6]"
            ]
          },
          "metadata": {},
          "execution_count": 1
        }
      ],
      "source": [
        "#Task 1--\n",
        "a=[1,2,3,4,5,6]\n",
        "b=[7,8,9,6]\n",
        "a+b\n"
      ]
    },
    {
      "cell_type": "code",
      "source": [
        "#Task 2--\n",
        "\n",
        "num= int(input(\"Enter your number: \"))\n",
        "if (num%2) == 0:\n",
        "   print(\"{0} is Even\".format(num))\n",
        "else:\n",
        "   print(\" is odd\".format(num))\n"
      ],
      "metadata": {
        "colab": {
          "base_uri": "https://localhost:8080/"
        },
        "id": "VXxv88J54ZuV",
        "outputId": "71f47b8d-ab74-4950-a9f7-b5993755a0a2"
      },
      "execution_count": null,
      "outputs": [
        {
          "output_type": "stream",
          "name": "stdout",
          "text": [
            "Enter your number: 3\n",
            " is odd\n"
          ]
        }
      ]
    },
    {
      "cell_type": "code",
      "source": [
        "#Task 3--\n",
        "d1 = {'S.no':[1,2,3],'Name':['Ravi','Jayanth','Praven'],'Rollno':[3,2,7]}\n",
        "d1\n",
        "\n",
        "\n",
        "{'S.no': [1,2,3],\n",
        " 'Name': ['Ravi','Jayanth','Praveen'],\n",
        " 'Rollno': [3,2,7]}\n"
      ],
      "metadata": {
        "colab": {
          "base_uri": "https://localhost:8080/"
        },
        "id": "1AP2B_-r51zB",
        "outputId": "7c1e4c82-564d-4bd6-c8c2-2c8cc6463dd8"
      },
      "execution_count": null,
      "outputs": [
        {
          "output_type": "execute_result",
          "data": {
            "text/plain": [
              "{'S.no': [1, 2, 3],\n",
              " 'Name': ['Ravi', 'Jayanth', 'Praveen'],\n",
              " 'Rollno': [3, 2, 7]}"
            ]
          },
          "metadata": {},
          "execution_count": 3
        }
      ]
    },
    {
      "cell_type": "code",
      "source": [],
      "metadata": {
        "id": "eofc1f9eCkX6"
      },
      "execution_count": null,
      "outputs": []
    },
    {
      "cell_type": "code",
      "source": [
        "#Task 4--\n",
        "def find_odd_numbers(start,end):\n",
        "    for num in range(start,end + 1):\n",
        "        if num % 2 != 0:\n",
        "            print(num)\n",
        "\n",
        "find_odd_numbers(1,10)\n"
      ],
      "metadata": {
        "colab": {
          "base_uri": "https://localhost:8080/"
        },
        "id": "QiWExRfMCkcU",
        "outputId": "d0f06369-3a35-42d8-bb1c-6cfee851006e"
      },
      "execution_count": null,
      "outputs": [
        {
          "output_type": "stream",
          "name": "stdout",
          "text": [
            "1\n",
            "3\n",
            "5\n",
            "7\n",
            "9\n"
          ]
        }
      ]
    },
    {
      "cell_type": "code",
      "source": [
        "#Task 5--\n",
        "def sum(numbers):\n",
        "    total = 0\n",
        "    for x in numbers:\n",
        "        total += x\n",
        "    return total\n",
        "print(sum((8,2,3,0,7)))\n"
      ],
      "metadata": {
        "colab": {
          "base_uri": "https://localhost:8080/"
        },
        "id": "BQlIbehUDoEw",
        "outputId": "94061f37-81e2-428f-898b-719cf570b666"
      },
      "execution_count": null,
      "outputs": [
        {
          "output_type": "stream",
          "name": "stdout",
          "text": [
            "20\n"
          ]
        }
      ]
    }
  ]
}